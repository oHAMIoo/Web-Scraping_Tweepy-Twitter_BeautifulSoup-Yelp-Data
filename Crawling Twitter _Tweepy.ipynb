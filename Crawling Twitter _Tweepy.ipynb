{
 "cells": [
  {
   "cell_type": "code",
   "execution_count": 9,
   "metadata": {},
   "outputs": [
    {
     "name": "stdin",
     "output_type": "stream",
     "text": [
      "Consumer Key  L0HNflcwaA9cK4cwZEu8E0RhO\n",
      "Consumer Secret  MxYGzrBFAAlPrbc1S6KsgEVQ8VZqwUscPca5P2UkQfCK4VQKTn\n",
      "Access Token  702743084157816832-cWAvyvXQF8vc5UVrlcSwEHtykiU6SlO\n",
      "Access Token Secret  05mCyT1W7M1X3mZBh3d9USnH9J0Et2oUUdt1IGj7s86Zi\n",
      "1st Hastag Tesla\n",
      "2nd Hastag Autopilot\n",
      "Number of results 100\n"
     ]
    },
    {
     "name": "stdout",
     "output_type": "stream",
     "text": [
      "100 rows of data crawled from Twitter related to Autopilot\n"
     ]
    }
   ],
   "source": [
    "import tweepy\n",
    "import csv \n",
    "\n",
    "\n",
    "#create authentication for accessing Twitter    \n",
    "consumer_key = input('Consumer Key ') # L0HNflcwaA9cK4cwZEu8E0RhO <<<(This is my twitter key)\n",
    "consumer_secret = input('Consumer Secret ') # MxYGzrBFAAlPrbc1S6KsgEVQ8VZqwUscPca5P2UkQfCK4VQKTn\n",
    "access_token = input('Access Token ') # 702743084157816832-cWAvyvXQF8vc5UVrlcSwEHtykiU6SlO\n",
    "access_token_secret = input('Access Token Secret ') # 05mCyT1W7M1X3mZBh3d9USnH9J0Et2oUUdt1IGj7s86Zi\n",
    "\n",
    "\n",
    "auth = tweepy.OAuthHandler(consumer_key, consumer_secret)\n",
    "auth.set_access_token(access_token, access_token_secret)\n",
    "\n",
    "#initialize Tweepy API (application programming interface)\n",
    "api = tweepy.API(auth)\n",
    "\n",
    "#output to csv file \n",
    "def search_term(outputFile, term, limit):\n",
    "\n",
    "    result = open(outputFile, 'a')\n",
    "    csvWriter = csv.writer(result)\n",
    "    csvWriter.writerow([\"Screen Name\", \"Number of Followers\", \"Location\", \"Tweet\"])\n",
    "\n",
    "    try:\n",
    "        i = 0\n",
    "        for tweet in tweepy.Cursor(api.search,\n",
    "                                    q = term,\n",
    "                                    lang = \"en\").items(limit):\n",
    "\n",
    "            csvWriter.writerow([tweet.user.screen_name, \n",
    "                                tweet.user.followers_count, \n",
    "                                tweet.user.location, \n",
    "                                tweet.text.encode('utf-8')])\n",
    "            i = i+1\n",
    "        print(str(i)+\" rows of data crawled from Twitter related to \" + term)\n",
    "\n",
    "        result.close()\n",
    "    except:\n",
    "        print(\"Waiting to crawl...\")\n",
    "        print(\"Done crawling, check directory folder.\")\n",
    "\n",
    "        \n",
    "# Data to crawl with the application\n",
    "first_hashtag = input('1st Hastag')  # For my first hashtag, I used Tesla\n",
    "Second_hashtag = input('2nd Hastag') # For my second hashtag, I used Autopilot\n",
    "number_result = int(input('Number of results')) # I chose to view 100 results.\n",
    "        \n",
    "search_term(first_hashtag, Second_hashtag, number_result)\n",
    "\n"
   ]
  }
 ],
 "metadata": {
  "kernelspec": {
   "display_name": "Python 3",
   "language": "python",
   "name": "python3"
  },
  "language_info": {
   "codemirror_mode": {
    "name": "ipython",
    "version": 3
   },
   "file_extension": ".py",
   "mimetype": "text/x-python",
   "name": "python",
   "nbconvert_exporter": "python",
   "pygments_lexer": "ipython3",
   "version": "3.8.3"
  }
 },
 "nbformat": 4,
 "nbformat_minor": 4
}
